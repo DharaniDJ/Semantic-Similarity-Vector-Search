{
  "nbformat": 4,
  "nbformat_minor": 0,
  "metadata": {
    "colab": {
      "provenance": [],
      "include_colab_link": true
    },
    "kernelspec": {
      "name": "python3",
      "display_name": "Python 3"
    },
    "language_info": {
      "name": "python"
    },
    "accelerator": "GPU"
  },
  "cells": [
    {
      "cell_type": "markdown",
      "metadata": {
        "id": "view-in-github",
        "colab_type": "text"
      },
      "source": [
        "<a href=\"https://colab.research.google.com/github/DharaniDJ/Semantic-Similarity-Vector-Search/blob/main/Vector_Database_Pinecone_.ipynb\" target=\"_parent\"><img src=\"https://colab.research.google.com/assets/colab-badge.svg\" alt=\"Open In Colab\"/></a>"
      ]
    },
    {
      "cell_type": "markdown",
      "source": [
        "**Vector databases** are purpose-built to handle the unique structure of **vector embeddings**. They **index vectors** for **easy search and retrieval** by comparing values and finding those that are most similar to one another."
      ],
      "metadata": {
        "id": "NcQJYlK7lQEr"
      }
    },
    {
      "cell_type": "code",
      "execution_count": 71,
      "metadata": {
        "id": "i1ml27t4Lksp"
      },
      "outputs": [],
      "source": [
        "!pip install sentence-transformers pinecone-client -q"
      ]
    },
    {
      "cell_type": "code",
      "source": [
        "import pinecone\n",
        "pinecone.init(api_key='fa7c0381-a319-411f-8887-fc8ac4538db6', environment='gcp-starter')"
      ],
      "metadata": {
        "id": "Mk_XL8NnNIT4"
      },
      "execution_count": 72,
      "outputs": []
    },
    {
      "cell_type": "code",
      "source": [
        "from sentence_transformers import SentenceTransformer\n",
        "model = SentenceTransformer('all-mpnet-base-v2',device='cuda')"
      ],
      "metadata": {
        "id": "WG01OhXOOELX"
      },
      "execution_count": 73,
      "outputs": []
    },
    {
      "cell_type": "code",
      "source": [
        "embeding = model.encode(\"time complexity of insertion operation in linked list\")\n",
        "len(embeding)"
      ],
      "metadata": {
        "colab": {
          "base_uri": "https://localhost:8080/"
        },
        "id": "Xr3hfxUEjd9k",
        "outputId": "c2b82ca7-77fd-4b1b-dada-f6a045d7a1fd"
      },
      "execution_count": 74,
      "outputs": [
        {
          "output_type": "execute_result",
          "data": {
            "text/plain": [
              "768"
            ]
          },
          "metadata": {},
          "execution_count": 74
        }
      ]
    },
    {
      "cell_type": "code",
      "source": [
        "pinecone.create_index(name='question-search', dimension=768)"
      ],
      "metadata": {
        "id": "81qZl8NhN2Do"
      },
      "execution_count": 75,
      "outputs": []
    },
    {
      "cell_type": "code",
      "source": [
        "index = pinecone.Index('question-search')"
      ],
      "metadata": {
        "id": "EllDx72hOSai"
      },
      "execution_count": 76,
      "outputs": []
    },
    {
      "cell_type": "code",
      "source": [
        "# [(id,vector,metadata)]"
      ],
      "metadata": {
        "id": "xZxuiwn1Xm9R"
      },
      "execution_count": null,
      "outputs": []
    },
    {
      "cell_type": "code",
      "source": [
        "question_list = []\n",
        "question_list.append(\n",
        "      (\n",
        "        str(1),\n",
        "        model.encode(\"time complexity of insertion operation in linked list\").tolist(),\n",
        "        {\n",
        "            'is_duplicate': 1,\n",
        "            'question1': \"time complexity of insertion operation in linked list\"\n",
        "        }\n",
        "      )\n",
        "  )\n",
        "index.upsert(vectors=question_list)\n",
        "question_list = []"
      ],
      "metadata": {
        "id": "A2oqmqzYeKLF"
      },
      "execution_count": 77,
      "outputs": []
    },
    {
      "cell_type": "code",
      "source": [
        "query = \"What is the complexity of inserting a node into a linkedlist?\"\n",
        "xq = model.encode([query]).tolist()\n",
        "result = index.query(xq, top_k=2, includeMetadata=True)\n",
        "result"
      ],
      "metadata": {
        "id": "BwcCaOIaQYSf",
        "colab": {
          "base_uri": "https://localhost:8080/"
        },
        "outputId": "d5d06e5e-80a4-4f30-9aa7-f7b98a3c2edc"
      },
      "execution_count": 78,
      "outputs": [
        {
          "output_type": "execute_result",
          "data": {
            "text/plain": [
              "{'matches': [], 'namespace': ''}"
            ]
          },
          "metadata": {},
          "execution_count": 78
        }
      ]
    }
  ]
}