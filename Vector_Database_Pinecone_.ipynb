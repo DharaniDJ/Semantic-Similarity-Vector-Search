{
  "cells": [
    {
      "cell_type": "markdown",
      "metadata": {
        "colab_type": "text",
        "id": "view-in-github"
      },
      "source": [
        "<a href=\"https://colab.research.google.com/github/DharaniDJ/Semantic-Similarity-Vector-Search/blob/main/Vector_Database_Pinecone_.ipynb\" target=\"_parent\"><img src=\"https://colab.research.google.com/assets/colab-badge.svg\" alt=\"Open In Colab\"/></a>"
      ]
    },
    {
      "cell_type": "markdown",
      "metadata": {
        "id": "NcQJYlK7lQEr"
      },
      "source": [
        "**Vector databases** are purpose-built to handle the unique structure of **vector embeddings**. They **index vectors** for **easy search and retrieval** by comparing values and finding those that are most similar to one another."
      ]
    },
    {
      "cell_type": "code",
      "execution_count": 71,
      "metadata": {
        "id": "i1ml27t4Lksp"
      },
      "outputs": [],
      "source": [
        "!pip install sentence-transformers pinecone-client -q"
      ]
    },
    {
      "cell_type": "code",
      "execution_count": 72,
      "metadata": {
        "id": "Mk_XL8NnNIT4"
      },
      "outputs": [],
      "source": [
        "import pinecone\n",
        "pinecone.init(api_key='', environment='gcp-starter')"
      ]
    },
    {
      "cell_type": "code",
      "execution_count": 73,
      "metadata": {
        "id": "WG01OhXOOELX"
      },
      "outputs": [],
      "source": [
        "from sentence_transformers import SentenceTransformer\n",
        "model = SentenceTransformer('all-mpnet-base-v2',device='cuda')"
      ]
    },
    {
      "cell_type": "code",
      "execution_count": 74,
      "metadata": {
        "colab": {
          "base_uri": "https://localhost:8080/"
        },
        "id": "Xr3hfxUEjd9k",
        "outputId": "c2b82ca7-77fd-4b1b-dada-f6a045d7a1fd"
      },
      "outputs": [
        {
          "data": {
            "text/plain": [
              "768"
            ]
          },
          "execution_count": 74,
          "metadata": {},
          "output_type": "execute_result"
        }
      ],
      "source": [
        "embeding = model.encode(\"time complexity of insertion operation in linked list\")\n",
        "len(embeding)"
      ]
    },
    {
      "cell_type": "code",
      "execution_count": 75,
      "metadata": {
        "id": "81qZl8NhN2Do"
      },
      "outputs": [],
      "source": [
        "pinecone.create_index(name='question-search', dimension=768)"
      ]
    },
    {
      "cell_type": "code",
      "execution_count": 76,
      "metadata": {
        "id": "EllDx72hOSai"
      },
      "outputs": [],
      "source": [
        "index = pinecone.Index('question-search')"
      ]
    },
    {
      "cell_type": "code",
      "execution_count": null,
      "metadata": {
        "id": "xZxuiwn1Xm9R"
      },
      "outputs": [],
      "source": [
        "# [(id,vector,metadata)]"
      ]
    },
    {
      "cell_type": "code",
      "execution_count": 77,
      "metadata": {
        "id": "A2oqmqzYeKLF"
      },
      "outputs": [],
      "source": [
        "question_list = []\n",
        "question_list.append(\n",
        "      (\n",
        "        str(1),\n",
        "        model.encode(\"time complexity of insertion operation in linked list\").tolist(),\n",
        "        {\n",
        "            'is_duplicate': 1,\n",
        "            'question1': \"time complexity of insertion operation in linked list\"\n",
        "        }\n",
        "      )\n",
        "  )\n",
        "index.upsert(vectors=question_list)\n",
        "question_list = []"
      ]
    },
    {
      "cell_type": "code",
      "execution_count": 78,
      "metadata": {
        "colab": {
          "base_uri": "https://localhost:8080/"
        },
        "id": "BwcCaOIaQYSf",
        "outputId": "d5d06e5e-80a4-4f30-9aa7-f7b98a3c2edc"
      },
      "outputs": [
        {
          "data": {
            "text/plain": [
              "{'matches': [], 'namespace': ''}"
            ]
          },
          "execution_count": 78,
          "metadata": {},
          "output_type": "execute_result"
        }
      ],
      "source": [
        "query = \"What is the complexity of inserting a node into a linkedlist?\"\n",
        "xq = model.encode([query]).tolist()\n",
        "result = index.query(xq, top_k=2, includeMetadata=True)\n",
        "result"
      ]
    }
  ],
  "metadata": {
    "accelerator": "GPU",
    "colab": {
      "include_colab_link": true,
      "provenance": []
    },
    "kernelspec": {
      "display_name": "Python 3",
      "name": "python3"
    },
    "language_info": {
      "name": "python"
    }
  },
  "nbformat": 4,
  "nbformat_minor": 0
}
